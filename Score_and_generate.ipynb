{
  "nbformat": 4,
  "nbformat_minor": 0,
  "metadata": {
    "colab": {
      "name": "Score_and_generate",
      "provenance": [],
      "collapsed_sections": []
    },
    "kernelspec": {
      "name": "python3",
      "display_name": "Python 3"
    },
    "language_info": {
      "name": "python"
    },
    "accelerator": "GPU"
  },
  "cells": [
    {
      "cell_type": "markdown",
      "metadata": {
        "id": "gh8r5G3JX5e1"
      },
      "source": [
        "# Оценка кликбейтности и создание нейроновостей\n",
        "\n",
        "Здесь можно посмотреть, как работает код из статьи «Компьютер учит срамоту»: оценить желтизну придуманного вами заголовка и нагенерировать нейрозаголовков (и нейротекстов для них)"
      ]
    },
    {
      "cell_type": "markdown",
      "metadata": {
        "id": "F0PO4pGoFhat"
      },
      "source": [
        "## Кликбейтность"
      ]
    },
    {
      "cell_type": "code",
      "metadata": {
        "colab": {
          "base_uri": "https://localhost:8080/"
        },
        "id": "uyIhzPDAi2pw",
        "cellView": "form"
      },
      "source": [
        "#@markdown ### Подготовка оценки кликбейтности\n",
        "#@markdown ← Нажмите '▷' слева, чтобы подготовить модель оценки\n",
        " \n",
        "!pip install -qqq sentence-transformers 1>/dev/null 2>/dev/null\n",
        "!wget -q \"https://github.com/sysblok/neuroclickbait/raw/master/vectors/clickbait_vector.npy\" -O clickbait_vector.npy\n",
        "!wget -q \"https://github.com/sysblok/neuroclickbait/raw/master/vectors/cluster_centers.npy\" -O cluster_centers.npy\n",
        "\n",
        "\n",
        "try:\n",
        "  from IPython.utils import io\n",
        "  import numpy as np\n",
        " \n",
        "  from math import sqrt\n",
        "  from scipy.stats import norm\n",
        "  from sentence_transformers import SentenceTransformer\n",
        "  from IPython.core.display import display, HTML\n",
        " \n",
        " \n",
        "  def printhtml(instr):\n",
        "    display(instr)\n",
        " \n",
        "  def uniform_transform(x, mean, var, interval=(0, 50)):\n",
        "    i = interval\n",
        "    std = sqrt(var)\n",
        "    x -= mean\n",
        "    return -i[0] + i[1] * norm.cdf(x * sqrt(1/var), 0, std)\n",
        " \n",
        "  def get_cluster_distance(embedding, cluster_centers):\n",
        "    return min([np.linalg.norm(embedding - center) for center in cluster_centers])\n",
        " \n",
        "  def get_clickbait_likeness(embedding, clickbait_vector):\n",
        "    return np.linalg.norm(embedding - clickbait_vector)\n",
        " \n",
        "  def get_embedding_clickbait_score(embedding, cluster_centers, clickbait_vector):\n",
        "    cluster_closeness_score = 50 - uniform_transform(get_cluster_distance(embedding, cluster_centers), 4.379236, 0.40359718)\n",
        "    clickbait_likeness_score = 50 - uniform_transform(get_clickbait_likeness(embedding, clickbait_vector), 4.7919064, 0.36316898)\n",
        "    return cluster_closeness_score + clickbait_likeness_score\n",
        " \n",
        "  def get_assessment_for_score(i):\n",
        "    if i == 0: return '<div style=\"display: inline; color: #5a8150; font-size: 18px;\"><b><div style=\"display: inline; font-size: 24px;\">{}</div>: Абсолютно пресный. Посетители сайтов про секреты знаменитостей на такое точно не кликнут.</div>'\n",
        "    elif i < 10: return '<div style=\"display: inline; color: #688749; font-size: 18px;\"><b><div style=\"display: inline; font-size: 24px;\">{}</div>: Вообще не жёлтый.</b> Такой точно не поставят под баннером.</div>'\n",
        "    elif i < 20: return '<div style=\"display: inline; color: #758d41; font-size: 18px;\"><b><div style=\"display: inline; font-size: 24px;\">{}</div>: Совсем не жёлтый.</b> Такой не вызывает жёлания скорее нажать и читать...</div>'\n",
        "    elif i < 30: return '<div style=\"display: inline; color: #83933a; font-size: 18px;\"><b><div style=\"display: inline; font-size: 24px;\">{}</div>: Не жёлтый.</b> Неплохая попытка, но всё-таки не то.</div>'\n",
        "    elif i < 40: return '<div style=\"display: inline; color: #919933; font-size: 18px;\"><b><div style=\"display: inline; font-size: 24px;\">{}</div>: Начинает желтеть.</b> Возможно, стоит добавить \"ШОК!\" или \"Жмите по ссылке...\"?</div>'\n",
        "    elif i < 50: return '<div style=\"display: inline; color: #9e9f2c; font-size: 18px;\"><b><div style=\"display: inline; font-size: 24px;\">{}</div>: Почти жёлтый.</b> Это близко! Но всё же недотягивает.</div>'\n",
        "    elif i < 60: return '<div style=\"display: inline; color: #aca624; font-size: 18px;\"><b><div style=\"display: inline; font-size: 24px;\">{}</div>: Довольно-таки жёлтый.</b> Такой уже можно увидеть на трешовом баннере.</div>'\n",
        "    elif i < 70: return '<div style=\"display: inline; color: #b9ac1d; font-size: 18px;\"><b><div style=\"display: inline; font-size: 24px;\">{}</div>: Вполне себе жёлтый.</b> Качественный, сочный, как лимон.</div>'\n",
        "    elif i < 80: return '<div style=\"display: inline; color: #c7b216; font-size: 18px;\"><b><div style=\"display: inline; font-size: 24px;\">{}</div>: Жёлтый.</b> Отличный заголовок! Клики от посетителей сайтов о секретах здоровья вам обеспечены.</div>'\n",
        "    elif i < 90: return '<div style=\"display: inline; color: #d5b80f; font-size: 18px;\"><b><div style=\"display: inline; font-size: 24px;\">{}</div>: Очень жёлтый.</b> Самое то. Возможно, где-нибудь на сайте о волшебном обогащении такой даже висит.</div>'\n",
        "    elif i < 100: return '<div style=\"display: inline; color: #e2be07; font-size: 18px;\"><b><div style=\"display: inline; font-size: 24px;\">{}</div>: Максимально жёлтый!</b> У вас талант! Не задумывались о трудоустройстве?</div>'\n",
        "    return '<div style=\"display: inline; color: #f0c400; font-size: 18px;\"><b><div style=\"display: inline; font-size: 24px;\">{}</div>: МАКСИМАЛЬНО жёлтый!</b> Вы точно не автор жёлтых баннеров?</div>'\n",
        " \n",
        "  def clickbaitness_score(prompt, model, cluster_centers, clickbait_vector):\n",
        "    return get_embedding_clickbait_score(model.encode(prompt), cluster_centers=cluster_centers, clickbait_vector=clickbait_vector)\n",
        " \n",
        "  def prettyprint_clickbait_score(prompt, model, cluster_centers, clickbait_vector):\n",
        "    clickbait_score = clickbaitness_score(prompt, model=model, cluster_centers=cluster_centers, clickbait_vector=clickbait_vector)\n",
        "    if clickbait_score < 0:\n",
        "      clickbait_score = 0\n",
        "    elif clickbait_score > 100:\n",
        "      clickbait_score = 100\n",
        "    clickbait_score = int(round(clickbait_score))\n",
        "    output = get_assessment_for_score(clickbait_score)\n",
        "    output = output.format(str(clickbait_score))\n",
        "    printhtml(HTML('<div style=\"display: inline; font-size: 18px;\"><b>{}</b></div>'.format(prompt)))\n",
        "    printhtml(HTML(output))\n",
        " \n",
        " \n",
        "  with open(\"cluster_centers.npy\", \"rb\") as inp:\n",
        "    cluster_centers = np.load(inp)\n",
        " \n",
        "  with open(\"clickbait_vector.npy\", \"rb\") as inp:\n",
        "    clickbait_vector = np.load(inp)\n",
        "  \n",
        "  with io.capture_output() as captured:\n",
        "    emb_model = SentenceTransformer('paraphrase-xlm-r-multilingual-v1');\n",
        " \n",
        "  print('\\x1b[1m' + \"Всё загружено, можно начинать проверять\" + '\\x1b[0m')\n",
        " \n",
        "except:\n",
        "  print('\\x1b[1;31m' + \"Что-то пошло не так. Пререзагрузите среду (Среда выполнения ➔ Сбросить настройки среды выполнения ➔ ДА)\" + '\\x1b[0m')"
      ],
      "execution_count": 1,
      "outputs": [
        {
          "output_type": "stream",
          "text": [
            "\u001b[1mВсё загружено, можно начинать проверять\u001b[0m\n"
          ],
          "name": "stdout"
        }
      ]
    },
    {
      "cell_type": "code",
      "metadata": {
        "colab": {
          "base_uri": "https://localhost:8080/",
          "height": 68
        },
        "id": "k_DGVyralIGP",
        "cellView": "form"
      },
      "source": [
        "#@markdown ### Оценка на кликбейтность\n",
        "#@markdown Введите ваш заголовок для проверки и вновь нажмите '▷'\n",
        " \n",
        "Заголовок = \"Морковь полезет как грибы! Посыпьте грунт простым советским...\"  #@param {\"type\": \"string\"}\n",
        " \n",
        "prettyprint_clickbait_score(Заголовок, model=emb_model, cluster_centers=cluster_centers, clickbait_vector=clickbait_vector)"
      ],
      "execution_count": 2,
      "outputs": [
        {
          "output_type": "display_data",
          "data": {
            "text/html": [
              "<div style=\"display: inline; font-size: 18px;\"><b>Морковь полезет как грибы! Посыпьте грунт простым советским...</b></div>"
            ],
            "text/plain": [
              "<IPython.core.display.HTML object>"
            ]
          },
          "metadata": {}
        },
        {
          "output_type": "display_data",
          "data": {
            "text/html": [
              "<div style=\"display: inline; color: #e2be07; font-size: 18px;\"><b><div style=\"display: inline; font-size: 24px;\">95</div>: Максимально жёлтый!</b> У вас талант! Не задумывались о трудоустройстве?</div>"
            ],
            "text/plain": [
              "<IPython.core.display.HTML object>"
            ]
          },
          "metadata": {}
        }
      ]
    },
    {
      "cell_type": "markdown",
      "metadata": {
        "id": "dEoXU2BrFkmv"
      },
      "source": [
        "## Жёлтые нейроновости"
      ]
    },
    {
      "cell_type": "code",
      "metadata": {
        "colab": {
          "base_uri": "https://localhost:8080/"
        },
        "id": "Lcu1XVzQpZzh",
        "cellView": "form"
      },
      "source": [
        "#@markdown  ### Подготовка генератора нейрокликбейта\n",
        "#@markdown ← Нажмите '▷' слева, чтобы подготовить модель генерации заголовков\n",
        "\n",
        "import re\n",
        "passed = True\n",
        "\n",
        "try:\n",
        "  type(get_embedding_clickbait_score)\n",
        "except NameError:\n",
        "  passed = False\n",
        "  print('\\x1b[1;31m' + \"Для генерации необходимо инициализировать оценку на кликбейтность – пожалуйста, запустите код в самой верхней клетке и затем вернитесь к этой.\" + '\\x1b[0m')\n",
        "\n",
        "if passed:\n",
        "  report = !nvidia-smi -q --display=MEMORY\n",
        "  report = \" \".join(list(report))\n",
        "  try:\n",
        "    GiB = max([float(q) for q in re.findall(r\"([0-9]+) MiB\", report)])\n",
        "    if GiB <= 14900:\n",
        "      passed = False\n",
        "      print('\\x1b[1;31m' + \"Подходящая видеокарта недоступна – перезагрузите среду (Среда выполнения ➔ Сбросить настройки среды выполнения ➔ ДА) и заново выполните подготовку оценки кликбейтности\" + '\\x1b[0m')\n",
        "  except Exception as e:\n",
        "    passed = False\n",
        "    print('\\x1b[1;31m' + \"Что-то пошло не так. Проверьте, подключены ли вы к среде с GPU (Среда выполнения ➔ Сменить среду выполнения ➔ Аппаратный ускоритель ➔ GPU) и заново выполните подготовку оценки кликбейтности\" + '\\x1b[0m')\n",
        " \n",
        "if passed:\n",
        "  !pip install -qqq transformers==3.5.0 torch==1.6.0 1>/dev/null 2>/dev/null\n",
        "  !pip install -qqq aitextgen 1>/dev/null 2>/dev/null\n",
        "  !wget -q https://raw.githubusercontent.com/sberbank-ai/ru-gpts/master/generate_transformers.py\n",
        " \n",
        "  import logging\n",
        "  logging.basicConfig(\n",
        "          format=\"%(asctime)s — %(levelname)s — %(name)s — %(message)s\",\n",
        "          datefmt=\"%m/%d/%Y %H:%M:%S\",\n",
        "          level=logging.INFO\n",
        "      )\n",
        " \n",
        "  for model in [\"aititles\", \"neuroclickbait\"]:\n",
        "    !wget -q https://storage.googleapis.com/isikus/machine-scorning/{model}.tar.gz\n",
        "    !mkdir {model}\n",
        "    !tar -xzf {model}.tar.gz -C {model}\n",
        "  \n",
        "  \n",
        "  import json\n",
        "  import os\n",
        "  import sys\n",
        "  import json\n",
        "  import random\n",
        "  \n",
        "  from contextlib import contextmanager\n",
        "  from datetime import datetime\n",
        "  from IPython.display import Markdown\n",
        "  from IPython.display import display as displaymd\n",
        "  from aitextgen import aitextgen\n",
        "  \n",
        "\n",
        "  @contextmanager\n",
        "  def all_logging_disabled(highest_level=logging.CRITICAL):\n",
        "    previous_level = logging.root.manager.disable\n",
        "    logging.disable(highest_level)\n",
        "    \n",
        "    try:\n",
        "      yield\n",
        "    finally:\n",
        "      logging.disable(previous_level)\n",
        "  \n",
        "  def printmd(instr):\n",
        "    displaymd(Markdown(instr))\n",
        "  \n",
        "  def get_lbc(model_meta):\n",
        "    lbc = model_meta[\"line_break_character\"]\n",
        "    lbc = lbc.replace(\"\\s\", \" \")\n",
        "    return lbc\n",
        "  \n",
        "  def prettyscore(clickbait_score):\n",
        "    if clickbait_score < 0:\n",
        "      clickbait_score = 0\n",
        "    elif clickbait_score > 100:\n",
        "      clickbait_score = 100\n",
        "    clickbait_score = int(round(clickbait_score))\n",
        "    return clickbait_score\n",
        " \n",
        " \n",
        "  try:\n",
        "    with open(model+\"/meta.json\", \"r\") as injson:\n",
        "      model_meta = json.load(injson)\n",
        "  except Exception as e:\n",
        "    passed = False\n",
        "    print('\\x1b[1;31m'+\"Что-то сломалось – модель не готова :(\"+'\\x1b[0m')\n",
        " \n",
        "if passed:\n",
        "  with all_logging_disabled():\n",
        "    ai = aitextgen(model_folder=\"aititles\", config=\"aititles/config.json\", to_gpu=True)\n",
        "  \n",
        "  stup_cases = {\n",
        "    0: {\"k\": 5, \"p\": 0.95, \"temp\": 1.0},\n",
        "    25: {\"k\": 5, \"p\": 0.93, \"temp\": 2.0},\n",
        "    50: {\"k\": 6, \"p\": 0.91, \"temp\": 3.0},\n",
        "    75: {\"k\": 6, \"p\": 0.9, \"temp\": 4.0},\n",
        "    100: {\"k\": 7, \"p\": 0.88, \"temp\": 5.0}\n",
        "  }\n",
        " \n",
        "  print('\\x1b[1m' + \"Всё в порядке, можно приступать к генерации\" + '\\x1b[0m')"
      ],
      "execution_count": 3,
      "outputs": [
        {
          "output_type": "stream",
          "text": [
            "\u001b[1mВсё в порядке, можно приступать к генерации\u001b[0m\n"
          ],
          "name": "stdout"
        }
      ]
    },
    {
      "cell_type": "code",
      "metadata": {
        "colab": {
          "base_uri": "https://localhost:8080/",
          "height": 580
        },
        "id": "HlB8zxEC0PpU",
        "cellView": "form"
      },
      "source": [
        "#@markdown ### Создайте 3 своих уникальных нейрокликбейтных текста! Или 6. Или 9. Или больше.\n",
        " \n",
        "titletext = ai.generate_one(max_length=1024, prompt=\"<s>\")\n",
        "titles = [t for t in re.findall(r\"<s>(.*?)</s>\", titletext) if t]\n",
        "scores = [get_embedding_clickbait_score(e, cluster_centers=cluster_centers, clickbait_vector=clickbait_vector) for e in emb_model.encode(titles, show_progress_bar=False)]\n",
        "best_scores = list(reversed(sorted(scores)))[:3]\n",
        "best_titles = [titles[scores.index(s)] for s in best_scores]\n",
        "best_scores = [str(prettyscore(s)) for s in best_scores]\n",
        " \n",
        "s = \"\"\n",
        " \n",
        "prompts = best_titles\n",
        " \n",
        "for prompt in prompts:\n",
        "  s += (model_meta['prompt'] % prompt + '\\n') * 1\n",
        " \n",
        "with open(\"rawi.txt\", \"w\", encoding=\"utf-8\") as rawo:\n",
        "  rawo.write(s)\n",
        " \n",
        "rp = str(model_meta['repetition_penalty']) if \"repetition_penalty\" in model_meta else \"1.0\"\n",
        " \n",
        "Бредовость = 0 #@param {type: \"slider\", min: 0, max: 100, step: 25}\n",
        "stlv = Бредовость\n",
        " \n",
        "sd = random.choice(list(range(0, 10000)))\n",
        " \n",
        "responses = !python generate_transformers.py \\\n",
        "    --model_type=gpt2 \\\n",
        "    --model_name_or_path={model} \\\n",
        "    --k={str(stup_cases[stlv][\"k\"])} \\\n",
        "    --p={str(stup_cases[stlv][\"p\"])} \\\n",
        "    --repetition_penalty={rp} \\\n",
        "    --seed={str(sd)} \\\n",
        "    --temperature={str(stup_cases[stlv][\"temp\"])} \\\n",
        "    --stop_token=\"{model_meta['sequence_end_character']}\" \\\n",
        "    --length=500 < rawi.txt 2>/dev/null\n",
        " \n",
        "responses = \"\\n\".join(list(responses))\n",
        " \n",
        "lbc = model_meta[\"line_break_character\"]\n",
        "ssc = model_meta[\"sequence_start_character\"]\n",
        "sec = model_meta[\"sequence_end_character\"]\n",
        "prompt = re.sub(r\"%[a-z]+\", \"(.*?)\", model_meta[\"prompt\"])\n",
        " \n",
        "resps = [r for r in responses.split(\"Context >>> ruGPT:\\n\") if r]\n",
        "sps = [sp for sp in s.split(\"\\n\") if sp]\n",
        "for i, pair in enumerate(zip(sps, resps)):\n",
        "  sp, resp = pair\n",
        "  pt = re.search(re.sub(r\"%[a-z]+\", \"(.*)\", re.escape(model_meta[\"prompt\"])), sp).group(1)\n",
        "  rs, _ = re.findall(re.compile(re.escape(sp) + r\"\\n?(.*?)(\" + ssc + \"|$)\", flags=re.DOTALL), resp)[0]\n",
        "  pt = \"<br>\".join(\"<b>\" + p + \"</b>\" for p in re.split(lbc, pt) if p)\n",
        "  pt += \" (кликбейтность: \" + \"<i>\" + best_scores[i] + \"</i>\" + \")\"\n",
        "  printmd(pt)\n",
        "  rs = re.sub(lbc, \"<br>\", rs).strip()\n",
        "  rs = re.sub(r\"([^\\s])<br>([^\\s])\", r\"\\1 <br> \\2\", rs)\n",
        "  rse = len(rs) if rs.find(\"Context >>\") == -1 else rs.find(\"Context >>\")\n",
        "  printmd(rs[:rse] + \"<br>\")"
      ],
      "execution_count": 4,
      "outputs": [
        {
          "output_type": "display_data",
          "data": {
            "text/markdown": "<b>Собчак призналась в употреблении известной ведущей</b> (кликбейтность: <i>100</i>)",
            "text/plain": [
              "<IPython.core.display.Markdown object>"
            ]
          },
          "metadata": {}
        },
        {
          "output_type": "display_data",
          "data": {
            "text/markdown": "Ксения Собчак опубликовала на своей странице в Instagram фотографию, сделанную во время съемок программы \"Пусть говорят\". На снимке она предстала перед зрителями с букетом цветов. В кадре знаменитость позировала вместе со съемочной группой шоу. Поклонники отметили ее эффектную фигуру и стройный станок телеведущей: \"Выглядите великолепно\", \"Ксюша вы супер! Вы просто красотка!\", \"Супер!!!\" Напомним, что ранее стало известно о том, что у Ксении Собченковой обнаружили рак мозга из-за употребления алкоголя после участия в телешоу \"Дом 2\". После этого актриса обратилась к врачам за помощью и удалила себе опухоль. Однако врачи не нашли злокачественного новообразования. Отметим, что ведущая передачи \"Давай поженимся!\" появилась на программе еще несколько месяцев назад. Тогда ей диагностировали меланому – метастазы были очень серьезными для здоровья теледивы. Сейчас звезда активно готовится ко второму приему химиотерапии, чтобы избежать рецидива болезни.<br>",
            "text/plain": [
              "<IPython.core.display.Markdown object>"
            ]
          },
          "metadata": {}
        },
        {
          "output_type": "display_data",
          "data": {
            "text/markdown": "<b>Атакова самая красивая и мороженая заключка. Что скрывается и как его сделать</b> (кликбейтность: <i>100</i>)",
            "text/plain": [
              "<IPython.core.display.Markdown object>"
            ]
          },
          "metadata": {}
        },
        {
          "output_type": "display_data",
          "data": {
            "text/markdown": "Сегодня, 8 ноября, на канале \"Сторис\" выйдет новый сезон сериала «Атаки». На этот раз в нем будет играть актриса Анастасия Волочкова. Актриса рассказала о съемках нового сезона. В первом сезоне зрители увидели Анастасию Волочкову с ее сыном Артемом (настоящее имя — Александр). Съемки проходили во Владимирской области: там у балерины были съемки. Но уже сейчас она призналась, что очень любит мороженое. По словам актрисы, когда-то ей приходилось есть мороженное из банки или же просто пить воду со льдом. После этого она решила отказаться от него полностью – даже не задумываясь над тем фактом, что это вредно для здоровья организма! Сейчас Анастасия продолжает работать вместе со своей дочкой Ариадной в спектакле Театра им. Ермоловой по пьесе Островского. Также артистка занимается воспитанием сына Платона, которому скоро исполнится годик. Как отметила Настя, пока еще нет уверенности, получится ли у нее получить образование в школе или поступить куда угодно. Однако если все пойдет хорошо… то можно смело говорить, что сериал действительно интересный. Кстати сказать, после съемок в новом проекте поклонники звезды могут увидеть актрису совсем другими глазами, нежели прежде. Напомним, что в сериале снялись многие известные актеры - например, Андрей Миронов, Михаил Боярский... Теперь они играют главные роли в новых сериях проекта «Атаки» под названием «Каменская», а также принимают участие в различных театральных постановках.<br>",
            "text/plain": [
              "<IPython.core.display.Markdown object>"
            ]
          },
          "metadata": {}
        },
        {
          "output_type": "display_data",
          "data": {
            "text/markdown": "<b>Располневшая Кудрявцева обеспокоена сорачениями</b> (кликбейтность: <i>97</i>)",
            "text/plain": [
              "<IPython.core.display.Markdown object>"
            ]
          },
          "metadata": {}
        },
        {
          "output_type": "display_data",
          "data": {
            "text/markdown": "Певица Ольга Бузова опубликовала снимок с мужем Максимом Галкиным. На нем звезда позирует в бикини, а также демонстрирует подтянутую фигуру и стройные бедра, сообщает \"7Дней\". Подписчики обратили внимание на то обстоятельство, что телеведущая не может скрыть своего лишнего веса. Они предположили, что у нее проблемы со здоровьем. Поклонники Ольги считают ее очень худой – она часто сидит за компьютером или просто занимается спортом. Некоторые подписчики заметили изменения во внешности звезды шоу-бизнеса: они стали худыми, как после пластики, но при этом сохранили пышную грудь и упругие ягодицы (орфография и пунктуация сохранены). Другие отметили сходство между Ольгой и супругом артистки Александром Реввой. Многие поклонники певицы уверены, что певица сильно располнела из-за стресса. Напомним, ранее сообщалось о том, что бывшая возлюбленная футболиста Дениса Вороненкова Виктория Тарасова стала жертвой сексуальных домогательств бывшего мужа. Она обвинила его в домашнем насилии. По мнению Виктории Тарасовы, экс-супруг постоянно провоцировал свою супругу на интимные отношения. Однако та отказалась от этих обвинений и продолжила жить своей обычной жизнью без мужчин. Отметим, сейчас исполнительница находится дома под присмотром врачей, так как чувствует себя хорошо. \n<br>",
            "text/plain": [
              "<IPython.core.display.Markdown object>"
            ]
          },
          "metadata": {}
        }
      ]
    }
  ]
}